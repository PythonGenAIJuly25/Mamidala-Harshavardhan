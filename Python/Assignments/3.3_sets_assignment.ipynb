{
 "cells": [
  {
   "cell_type": "markdown",
   "metadata": {},
   "source": [
    "# Module 3: Data Structures Assignments\n",
    "## Lesson 3.3: Sets\n",
    "### Assignment 1: Creating and Accessing Sets\n",
    "\n",
    "Create a set with the first 10 positive integers. Print the set.\n",
    "\n",
    "### Assignment 2: Adding and Removing Elements\n",
    "\n",
    "Add the number 11 to the set created in Assignment 1. Then remove the number 1 from the set. Print the modified set.\n",
    "\n",
    "### Assignment 3: Set Operations\n",
    "\n",
    "Create two sets: one with the first 5 positive integers and another with the first 5 even integers. Perform and print the results of union, intersection, difference, and symmetric difference operations on these sets.\n",
    "\n",
    "### Assignment 4: Set Comprehensions\n",
    "\n",
    "Create a new set containing the squares of the first 10 positive integers using a set comprehension. Print the new set.\n",
    "\n",
    "### Assignment 5: Filtering Sets\n",
    "\n",
    "Create a new set containing only the even numbers from the set created in Assignment 1 using a set comprehension. Print the new set.\n",
    "\n",
    "### Assignment 6: Set Methods\n",
    "\n",
    "Create a set with duplicate elements and remove the duplicates using set methods. Print the modified set.\n",
    "\n",
    "### Assignment 7: Subsets and Supersets\n",
    "\n",
    "Create two sets: one with the first 5 positive integers and another with the first 3 positive integers. Check if the second set is a subset of the first set and if the first set is a superset of the second set. Print the results.\n",
    "\n",
    "### Assignment 8: Frozenset\n",
    "\n",
    "Create a frozenset with the first 5 positive integers. Print the frozenset.\n",
    "\n",
    "### Assignment 9: Set and List Conversion\n",
    "\n",
    "Create a set with the first 5 positive integers. Convert it to a list, append the number 6, and convert it back to a set. Print the resulting set.\n",
    "\n",
    "### Assignment 10: Set and Dictionary\n",
    "\n",
    "Create a dictionary with set keys and integer values. Print the dictionary.\n",
    "\n",
    "### Assignment 11: Iterating Over Sets\n",
    "\n",
    "Create a set and iterate over the elements, printing each element.\n",
    "\n",
    "### Assignment 12: Removing Elements from Sets\n",
    "\n",
    "Create a set and remove elements from it until it is empty. Print the set after each removal.\n",
    "\n",
    "### Assignment 13: Set Symmetric Difference Update\n",
    "\n",
    "Create two sets and update the first set with the symmetric difference of the two sets. Print the modified first set.\n",
    "\n",
    "### Assignment 14: Set Membership Testing\n",
    "\n",
    "Create a set and test if certain elements are present in the set. Print the results.\n",
    "\n",
    "### Assignment 15: Set of Tuples\n",
    "\n",
    "Create a set containing tuples, where each tuple contains two elements. Print the set."
   ]
  },
  {
   "cell_type": "code",
   "execution_count": 1,
   "id": "3e9d3240",
   "metadata": {},
   "outputs": [
    {
     "name": "stdout",
     "output_type": "stream",
     "text": [
      "{1, 2, 3, 4, 5, 6, 7, 8, 9, 10}\n"
     ]
    }
   ],
   "source": [
    "#Create a set with the first 10 positive integers. Print the set.\n",
    "my_set = set(range(1,11))\n",
    "print(my_set)"
   ]
  },
  {
   "cell_type": "code",
   "execution_count": 3,
   "metadata": {},
   "outputs": [
    {
     "name": "stdout",
     "output_type": "stream",
     "text": [
      "{2, 3, 4, 5, 6, 7, 8, 9, 10, 11}\n"
     ]
    }
   ],
   "source": [
    "#Add the number 11 to the set created in Assignment 1. Then remove the number 1 from the set. Print the modified set.\n",
    "my_set = set(range(1,11))\n",
    "my_set.add(11)\n",
    "\n",
    "my_set.remove(1)\n",
    "print(my_set)\n"
   ]
  },
  {
   "cell_type": "code",
   "execution_count": 4,
   "id": "b23b34dc",
   "metadata": {},
   "outputs": [
    {
     "name": "stdout",
     "output_type": "stream",
     "text": [
      "Union: {1, 2, 3, 4, 5, 6, 8, 10}\n",
      "Intersection: {2, 4}\n",
      "Difference (set1 - set2): {1, 3, 5}\n",
      "Symmetric Difference: {1, 3, 5, 6, 8, 10}\n"
     ]
    }
   ],
   "source": [
    "#Create two sets: one with the first 5 positive integers and another with the first 5 even integers. Perform and print the results of union, intersection, difference, and symmetric difference operations on these sets.\n",
    "set1 = set(range(1, 6))    \n",
    "set2 = set(range(2,11,2))\n",
    "print(\"Union:\", set1.union(set2))\n",
    "print(\"Intersection:\", set1.intersection(set2))\n",
    "print(\"Difference (set1 - set2):\", set1.difference(set2))\n",
    "print(\"Symmetric Difference:\", set1.symmetric_difference(set2))\n"
   ]
  },
  {
   "cell_type": "code",
   "execution_count": 6,
   "id": "38378213",
   "metadata": {},
   "outputs": [
    {
     "name": "stdout",
     "output_type": "stream",
     "text": [
      "{64, 1, 4, 36, 100, 9, 16, 49, 81, 25}\n"
     ]
    }
   ],
   "source": [
    "#Create a new set containing the squares of the first 10 positive integers using a set comprehension. Print the new set.\n",
    "square={i**2 for i in range(1,11)}\n",
    "print(square)"
   ]
  },
  {
   "cell_type": "code",
   "execution_count": 7,
   "id": "0835d052",
   "metadata": {},
   "outputs": [
    {
     "name": "stdout",
     "output_type": "stream",
     "text": [
      "{2, 4, 6, 8, 10}\n"
     ]
    }
   ],
   "source": [
    "#Create a new set containing only the even numbers from the set created in Assignment 1 using a set comprehension. Print the new set.\n",
    "orignal_set=set(range(1,11))\n",
    "new_set={x for x in orignal_set if x%2==0}\n",
    "print(new_set)"
   ]
  },
  {
   "cell_type": "code",
   "execution_count": 8,
   "id": "3e4e4cfd",
   "metadata": {},
   "outputs": [
    {
     "name": "stdout",
     "output_type": "stream",
     "text": [
      "{1, 2, 3, 4, 5}\n"
     ]
    }
   ],
   "source": [
    "#Create a set with duplicate elements and remove the duplicates using set methods. Print the modified set.\n",
    "numbers = [1, 2, 2, 3, 4, 4, 5, 5, 5]\n",
    "unique=set(numbers)\n",
    "print(unique)"
   ]
  },
  {
   "cell_type": "code",
   "execution_count": 9,
   "id": "d212e7b9",
   "metadata": {},
   "outputs": [
    {
     "name": "stdout",
     "output_type": "stream",
     "text": [
      "Set 1: {1, 2, 3, 4, 5}\n",
      "Set 2: {1, 2, 3}\n",
      "Is Set 2 a subset of Set 1? True\n",
      "Is Set 1 a superset of Set 2? True\n"
     ]
    }
   ],
   "source": [
    "#Create two sets: one with the first 5 positive integers and another with the first 3 positive integers. Check if the second set is a subset of the first set and if the first set is a superset of the second set. Print the results.\n",
    "set1 = set(range(1, 6)) \n",
    "set2 = set(range(1, 4))\n",
    "\n",
    "is_subset = set2.issubset(set1)\n",
    "is_superset = set1.issuperset(set2)\n",
    "\n",
    "print(\"Set 1:\", set1)\n",
    "print(\"Set 2:\", set2)\n",
    "print(\"Is Set 2 a subset of Set 1?\", is_subset)\n",
    "print(\"Is Set 1 a superset of Set 2?\", is_superset)"
   ]
  },
  {
   "cell_type": "code",
   "execution_count": 10,
   "id": "c546ae74",
   "metadata": {},
   "outputs": [
    {
     "name": "stdout",
     "output_type": "stream",
     "text": [
      "frozenset({1, 2, 3, 4, 5})\n"
     ]
    }
   ],
   "source": [
    "#Create a frozenset with the first 5 positive integers. Print the frozenset.\n",
    "fs = frozenset(range(1, 6))\n",
    "print(fs)"
   ]
  },
  {
   "cell_type": "code",
   "execution_count": 11,
   "id": "feb10e73",
   "metadata": {},
   "outputs": [
    {
     "name": "stdout",
     "output_type": "stream",
     "text": [
      "{1, 2, 3, 4, 5, 6}\n"
     ]
    }
   ],
   "source": [
    "#Create a set with the first 5 positive integers. Convert it to a list, append the number 6, and convert it back to a set. Print the resulting set.\n",
    "num_set = set(range(1, 6))\n",
    "num_list = list(num_set)\n",
    "num_list.append(6)\n",
    "updated_set = set(num_list)\n",
    "print(updated_set)\n"
   ]
  },
  {
   "cell_type": "code",
   "execution_count": 12,
   "id": "e31093d8",
   "metadata": {},
   "outputs": [
    {
     "name": "stdout",
     "output_type": "stream",
     "text": [
      "{frozenset({1, 2, 3}): 100}\n"
     ]
    }
   ],
   "source": [
    "#Create a dictionary with set keys and integer values. Print the dictionary.\n",
    "my_dict = {\n",
    "    frozenset({1, 2, 3}): 100\n",
    "}\n",
    "print(my_dict)\n"
   ]
  },
  {
   "cell_type": "code",
   "execution_count": 13,
   "id": "41afff5e",
   "metadata": {},
   "outputs": [
    {
     "name": "stdout",
     "output_type": "stream",
     "text": [
      "1\n",
      "2\n",
      "3\n",
      "4\n",
      "5\n"
     ]
    }
   ],
   "source": [
    "#Create a set and iterate over the elements, printing each element.\n",
    "my_set = {1, 2, 3, 4, 5}\n",
    "\n",
    "for element in my_set:\n",
    "    print(element)"
   ]
  },
  {
   "cell_type": "code",
   "execution_count": 14,
   "id": "80d07a6d",
   "metadata": {},
   "outputs": [
    {
     "name": "stdout",
     "output_type": "stream",
     "text": [
      "Removed: 1, Remaining Set: {2, 3, 4, 5}\n",
      "Removed: 2, Remaining Set: {3, 4, 5}\n",
      "Removed: 3, Remaining Set: {4, 5}\n",
      "Removed: 4, Remaining Set: {5}\n",
      "Removed: 5, Remaining Set: set()\n"
     ]
    }
   ],
   "source": [
    "#Create a set and remove elements from it until it is empty. Print the set after each removal.\n",
    "my_set = {1, 2, 3, 4, 5}\n",
    "\n",
    "while my_set:\n",
    "    removed_element = my_set.pop() \n",
    "    print(f\"Removed: {removed_element}, Remaining Set: {my_set}\")"
   ]
  },
  {
   "cell_type": "code",
   "execution_count": 15,
   "id": "28ac77b6",
   "metadata": {},
   "outputs": [
    {
     "name": "stdout",
     "output_type": "stream",
     "text": [
      "Modified set1 with symmetric difference: {1, 2, 5, 6}\n"
     ]
    }
   ],
   "source": [
    "#Create two sets and update the first set with the symmetric difference of the two sets. Print the modified first set.\n",
    "set1 = {1, 2, 3, 4}\n",
    "set2 = {3, 4, 5, 6}\n",
    "\n",
    "set1.symmetric_difference_update(set2)\n",
    "\n",
    "print(\"Modified set1 with symmetric difference:\", set1)"
   ]
  },
  {
   "cell_type": "code",
   "execution_count": 16,
   "id": "28f603a5",
   "metadata": {},
   "outputs": [
    {
     "name": "stdout",
     "output_type": "stream",
     "text": [
      "Is 20 in the set? True\n",
      "Is 25 in the set? False\n",
      "Is 50 in the set? True\n",
      "Is 5 in the set? False\n"
     ]
    }
   ],
   "source": [
    "#Create a set and test if certain elements are present in the set. Print the results.\n",
    "my_set = {10, 20, 30, 40, 50}\n",
    "\n",
    "print(\"Is 20 in the set?\", 20 in my_set)\n",
    "print(\"Is 25 in the set?\", 25 in my_set)\n",
    "print(\"Is 50 in the set?\", 50 in my_set)\n",
    "print(\"Is 5 in the set?\", 5 in my_set)"
   ]
  },
  {
   "cell_type": "code",
   "execution_count": 17,
   "id": "81244def",
   "metadata": {},
   "outputs": [
    {
     "name": "stdout",
     "output_type": "stream",
     "text": [
      "Set containing tuples:\n",
      "{(3, 'c'), (1, 'a'), (2, 'b'), (4, 'd')}\n"
     ]
    }
   ],
   "source": [
    "#Create a set containing tuples, where each tuple contains two elements. Print the set.\n",
    "tuple_set = {(1, 'a'), (2, 'b'), (3, 'c'), (4, 'd')}\n",
    "\n",
    "print(\"Set containing tuples:\")\n",
    "print(tuple_set)"
   ]
  }
 ],
 "metadata": {
  "kernelspec": {
   "display_name": "Python 3",
   "language": "python",
   "name": "python3"
  },
  "language_info": {
   "codemirror_mode": {
    "name": "ipython",
    "version": 3
   },
   "file_extension": ".py",
   "mimetype": "text/x-python",
   "name": "python",
   "nbconvert_exporter": "python",
   "pygments_lexer": "ipython3",
   "version": "3.12.0"
  }
 },
 "nbformat": 4,
 "nbformat_minor": 5
}
