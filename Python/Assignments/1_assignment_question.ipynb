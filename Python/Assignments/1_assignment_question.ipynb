{
  "cells": [
    {
      "cell_type": "markdown",
      "metadata": {
        "id": "OFTM1LSUHJrA"
      },
      "source": [
        "# Python Basics\n",
        "## Topics Covered:\n",
        "- Syntax and Semantics\n",
        "- Variables and Data Types\n",
        "- Basic Operators (Arithmetic, Comparison, Logical)\n"
      ]
    },
    {
      "cell_type": "markdown",
      "metadata": {
        "id": "bfwF31lhHJrC"
      },
      "source": [
        "## 1. Syntax and Semantics\n",
        "\n",
        "**Question 1:** Write a Python program to print \"Hello, World!\"."
      ]
    },
    {
      "cell_type": "code",
      "execution_count": null,
      "metadata": {
        "id": "eN2lwpcNHJrD",
        "colab": {
          "base_uri": "https://localhost:8080/"
        },
        "outputId": "6fd809ff-4baa-4ed2-edf6-33b1f1314c76"
      },
      "outputs": [
        {
          "output_type": "stream",
          "name": "stdout",
          "text": [
            "Hello, World!\n"
          ]
        }
      ],
      "source": [
        "# Your code here\n",
        "print(\"Hello, World!\")"
      ]
    },
    {
      "cell_type": "markdown",
      "metadata": {
        "id": "uBSSgH9iHJrE"
      },
      "source": [
        "**Question 2:** Write a Python program that takes a user input and prints it."
      ]
    },
    {
      "cell_type": "code",
      "execution_count": null,
      "metadata": {
        "id": "mSoII0LmHJrF",
        "colab": {
          "base_uri": "https://localhost:8080/"
        },
        "outputId": "190890cf-a26a-45bc-c8a0-4f529e035a7b"
      },
      "outputs": [
        {
          "output_type": "stream",
          "name": "stdout",
          "text": [
            "What is your name? harsha\n",
            "Hello, harsha!\n"
          ]
        }
      ],
      "source": [
        "# Your code here\n",
        "name = input(\"What is your name? \")\n",
        "print(\"Hello, \" + name + \"!\")"
      ]
    },
    {
      "cell_type": "markdown",
      "metadata": {
        "id": "fto5lI70HJrF"
      },
      "source": [
        "**Question 3:** Write a Python program to check if a number is positive, negative, or zero."
      ]
    },
    {
      "cell_type": "code",
      "execution_count": null,
      "metadata": {
        "id": "pNimHU1xHJrF",
        "colab": {
          "base_uri": "https://localhost:8080/"
        },
        "outputId": "292dd498-3cba-4372-d10d-e2c134772171"
      },
      "outputs": [
        {
          "output_type": "stream",
          "name": "stdout",
          "text": [
            "Enter a number: 210\n",
            "Positive\n"
          ]
        }
      ],
      "source": [
        "# Your code here\n",
        "num = float(input(\"Enter a number: \"))\n",
        "if num > 0:\n",
        "    print(\"Positive\")\n",
        "elif num < 0:\n",
        "    print(\"Negative\")\n",
        "else:\n",
        "    print(\"Zero\")"
      ]
    },
    {
      "cell_type": "markdown",
      "metadata": {
        "id": "4PgM8H8FHJrG"
      },
      "source": [
        "**Question 4:** Write a Python program to find the largest of three numbers."
      ]
    },
    {
      "cell_type": "code",
      "execution_count": null,
      "metadata": {
        "id": "6X4A6wrUHJrG",
        "colab": {
          "base_uri": "https://localhost:8080/"
        },
        "outputId": "e139e233-041d-4a8f-c5f0-099a765426a6"
      },
      "outputs": [
        {
          "output_type": "stream",
          "name": "stdout",
          "text": [
            "Enter first number: 67\n",
            "Enter second number: 89\n",
            "Enter third number: 90\n",
            "is largest 90.0\n"
          ]
        }
      ],
      "source": [
        "# Your code here\n",
        "num1 = float(input(\"Enter first number: \"))\n",
        "num2 = float(input(\"Enter second number: \"))\n",
        "num3 = float(input(\"Enter third number: \"))\n",
        "if(num1>num2 and num1>num3):\n",
        "    print(\"is largest \" + str(num1))\n",
        "elif(num2>num3 and num2>num1):\n",
        "   print(\"is largest \" + str(num2))\n",
        "else:\n",
        "    print(\"is largest \" + str(num3))"
      ]
    },
    {
      "cell_type": "markdown",
      "metadata": {
        "id": "_j0plzXrHJrH"
      },
      "source": [
        "**Question 5:** Write a Python program to calculate the factorial of a number."
      ]
    },
    {
      "cell_type": "code",
      "execution_count": null,
      "metadata": {
        "id": "Z_WQse1GHJrH",
        "colab": {
          "base_uri": "https://localhost:8080/"
        },
        "outputId": "9db6102e-1962-4e20-8a6c-18eba04ae141"
      },
      "outputs": [
        {
          "output_type": "stream",
          "name": "stdout",
          "text": [
            "Enter a number: 678\n",
            "The factorial of 678 is 8646331292635235392312053236158371808602366207348335861601954823548170896883855947101515679236150405496039431534046063404628871789111923459163050103041948410565588527142272613591081133840844934227155335959608571154399120479251441554499289097892322193878220462297987157950822846295988254730050269632972375459379701542804216045403184781341755554870811863135921061460358004018254917737833898689963342020135479597196526112007579493540471364335124246156512235128228944741749571962347107115497267700695661792024782327927096973472011988921071370354946318002090402083357105319667806602929950795641132749772799292184788577391503822774819366570269068087866119167643520723214738157517091673535007038079927759075341556293472983702177255345453516205729066340533437210980060544037835478164909830634252874602996034006157267673758435119124145262770621747417242086971570978216458761666069207904196975708502026753658022526378031398120310304675416633881297280318067710752386755166433404450391347446589682924920121181397021272000047873535982873821776031614855105010033580535013712516426475855927323061978238877319726024456893998192124699988355658542146944635521865300793702816371651463617868371827599954692530044634364123966105906784867979766362723453902698741878759209276387935495660966207936871079747062703906423997919023070410029766536609406803872264705175985537960652392424711139002008563438942470650340533827659145292553931119583347623597055704570270914210346874793678077952000000000000000000000000000000000000000000000000000000000000000000000000000000000000000000000000000000000000000000000000000000000000000000000000000000000000000000000000\n"
          ]
        }
      ],
      "source": [
        "# Your code here\n",
        "num = int(input(\"Enter a number: \"))\n",
        "fact = 1\n",
        "for i in range(1,num + 1):\n",
        "       fact = fact*i\n",
        "print(\"The factorial of\",num,\"is\",fact)"
      ]
    },
    {
      "cell_type": "markdown",
      "metadata": {
        "id": "-oGxfp3cHJrH"
      },
      "source": [
        "## 2. Variables and Data Types\n",
        "\n",
        "**Question 6:** Create variables of different data types: integer, float, string, and boolean. Print their values and types."
      ]
    },
    {
      "cell_type": "code",
      "execution_count": null,
      "metadata": {
        "id": "5iiPUvqEHJrI",
        "colab": {
          "base_uri": "https://localhost:8080/"
        },
        "outputId": "a5f8413d-725b-4f1b-9c44-72f353b0e2b3"
      },
      "outputs": [
        {
          "output_type": "stream",
          "name": "stdout",
          "text": [
            "10 <class 'int'>\n",
            "3.14 <class 'float'>\n",
            "Python <class 'str'>\n",
            "True <class 'bool'>\n"
          ]
        }
      ],
      "source": [
        "# Your code here\n",
        "a = 10\n",
        "b = 3.14\n",
        "c = \"Python\"\n",
        "d = True\n",
        "print(a, type(a))\n",
        "print(b, type(b))\n",
        "print(c, type(c))\n",
        "print(d, type(d))\n"
      ]
    },
    {
      "cell_type": "markdown",
      "metadata": {
        "id": "UPabpIbwHJrI"
      },
      "source": [
        "**Question 7:** Write a Python program to swap the values of two variables."
      ]
    },
    {
      "cell_type": "code",
      "execution_count": null,
      "metadata": {
        "id": "ctdLbg8gHJrI",
        "colab": {
          "base_uri": "https://localhost:8080/"
        },
        "outputId": "c14c1fd5-75f8-483a-9d1b-f98a1c553e27"
      },
      "outputs": [
        {
          "output_type": "stream",
          "name": "stdout",
          "text": [
            "Before swapping: a = 5 b = 10\n",
            "After swapping: a = 10 b = 5\n"
          ]
        }
      ],
      "source": [
        "# Your code here\n",
        "a = 5\n",
        "b = 10\n",
        "print(\"Before swapping: a =\", a, \"b =\", b)\n",
        "a, b = b, a\n",
        "print(\"After swapping: a =\", a, \"b =\", b)"
      ]
    },
    {
      "cell_type": "markdown",
      "metadata": {
        "id": "UitgFBO6HJrJ"
      },
      "source": [
        "**Question 8:** Write a Python program to convert Celsius to Fahrenheit."
      ]
    },
    {
      "cell_type": "code",
      "execution_count": null,
      "metadata": {
        "id": "jFCeH1taHJrJ",
        "colab": {
          "base_uri": "https://localhost:8080/"
        },
        "outputId": "c81d35f4-032d-42da-e1d4-ef336b7d35a9"
      },
      "outputs": [
        {
          "output_type": "stream",
          "name": "stdout",
          "text": [
            "Enter temperature in Celsius: 45\n",
            "45.0 degrees Celsius is equal to 113.0 degrees Fahrenheit\n"
          ]
        }
      ],
      "source": [
        "# Your code here\n",
        "celsius = float(input(\"Enter temperature in Celsius: \"))\n",
        "fahrenheit = (celsius * 9/5) + 32\n",
        "print(celsius, \"degrees Celsius is equal to\", fahrenheit, \"degrees Fahrenheit\")"
      ]
    },
    {
      "cell_type": "markdown",
      "metadata": {
        "id": "mtneV8TlHJrJ"
      },
      "source": [
        "**Question 9:** Write a Python program to concatenate two strings."
      ]
    },
    {
      "cell_type": "code",
      "execution_count": null,
      "metadata": {
        "id": "qJJmSAc8HJrK",
        "colab": {
          "base_uri": "https://localhost:8080/"
        },
        "outputId": "03126f94-918d-44cb-b5ba-739429ebeff8"
      },
      "outputs": [
        {
          "output_type": "stream",
          "name": "stdout",
          "text": [
            "HelloWorld\n"
          ]
        }
      ],
      "source": [
        "# Your code here\n",
        "str1 = \"Hello\"\n",
        "str2 = \"World\"\n",
        "result = str1 + str2\n",
        "print(result)"
      ]
    },
    {
      "cell_type": "markdown",
      "metadata": {
        "id": "ZJ7T6j_eHJrK"
      },
      "source": [
        "**Question 10:** Write a Python program to check if a variable is of a specific data type."
      ]
    },
    {
      "cell_type": "code",
      "execution_count": null,
      "metadata": {
        "id": "m5dOwQAmHJrK",
        "colab": {
          "base_uri": "https://localhost:8080/"
        },
        "outputId": "20ac98bb-c086-4d1e-8a2e-060a024ce179"
      },
      "outputs": [
        {
          "output_type": "stream",
          "name": "stdout",
          "text": [
            "True\n"
          ]
        }
      ],
      "source": [
        "# Your code here\n",
        "num = 10\n",
        "print(isinstance(num, int))"
      ]
    },
    {
      "cell_type": "markdown",
      "metadata": {
        "id": "-eRQvuljHJrK"
      },
      "source": [
        "## 3. Basic Operators (Arithmetic, Comparison, Logical)\n",
        "\n",
        "**Question 11:** Write a Python program to perform arithmetic operations: addition, subtraction, multiplication, and division."
      ]
    },
    {
      "cell_type": "code",
      "execution_count": null,
      "metadata": {
        "id": "9bkCppSFHJrL",
        "colab": {
          "base_uri": "https://localhost:8080/"
        },
        "outputId": "0ca8299f-7181-4cc4-acf6-c573066708ec"
      },
      "outputs": [
        {
          "output_type": "stream",
          "name": "stdout",
          "text": [
            "Enter first number: 29\n",
            "Enter second number: 29\n",
            "Addition: 58.0\n",
            "Subtraction: 0.0\n",
            "Multiplication: 841.0\n",
            "Division: 1.0\n"
          ]
        }
      ],
      "source": [
        "# Your code here\n",
        "num1 = float(input(\"Enter first number: \"))\n",
        "num2 = float(input(\"Enter second number: \"))\n",
        "print(\"Addition:\", num1 + num2)\n",
        "print(\"Subtraction:\", num1 - num2)\n",
        "print(\"Multiplication:\", num1 * num2)\n",
        "print(\"Division:\", num1 / num2)"
      ]
    },
    {
      "cell_type": "markdown",
      "metadata": {
        "id": "Zr8GSWRMHJrL"
      },
      "source": [
        "**Question 12:** Write a Python program to demonstrate comparison operators: equal to, not equal to, greater than, less than."
      ]
    },
    {
      "cell_type": "code",
      "execution_count": null,
      "metadata": {
        "id": "qYpKDHkuHJrL",
        "colab": {
          "base_uri": "https://localhost:8080/"
        },
        "outputId": "6a7191fc-9299-4038-a7c7-0a3519d316b2"
      },
      "outputs": [
        {
          "output_type": "stream",
          "name": "stdout",
          "text": [
            "Enter first number: 34\n",
            "Enter second number: 554\n",
            "Equal to: False\n",
            "Not equal to: True\n",
            "Greater than: False\n"
          ]
        }
      ],
      "source": [
        "# Your code here\n",
        "num1 = float(input(\"Enter first number: \"))\n",
        "num2 = float(input(\"Enter second number: \"))\n",
        "print(\"Equal to:\", num1 == num2)\n",
        "print(\"Not equal to:\", num1 != num2)\n",
        "print(\"Greater than:\", num1 > num2)"
      ]
    },
    {
      "cell_type": "markdown",
      "metadata": {
        "id": "k1-ItbLqHJrM"
      },
      "source": [
        "**Question 13:** Write a Python program to demonstrate logical operators: and, or, not."
      ]
    },
    {
      "cell_type": "code",
      "execution_count": null,
      "metadata": {
        "id": "_4gcQQ-mHJrM",
        "colab": {
          "base_uri": "https://localhost:8080/"
        },
        "outputId": "370bbe90-0c6c-401f-d336-5ec0a2757d4e"
      },
      "outputs": [
        {
          "output_type": "stream",
          "name": "stdout",
          "text": [
            "Enter first number: 3\n",
            "Enter second number: 34\n",
            "And: True\n",
            "Or: True\n",
            "Not: False\n"
          ]
        }
      ],
      "source": [
        "# Your code here\n",
        "num1 = float(input(\"Enter first number: \"))\n",
        "num2 = float(input(\"Enter second number: \"))\n",
        "print(\"And:\", num1 > 0 and num2 > 0)\n",
        "print(\"Or:\", num1 > 0 or num2 > 0)\n",
        "print(\"Not:\", not(num1 > 0))"
      ]
    },
    {
      "cell_type": "markdown",
      "metadata": {
        "id": "OzRg1BtdHJrM"
      },
      "source": [
        "**Question 14:** Write a Python program to calculate the square of a number."
      ]
    },
    {
      "cell_type": "code",
      "execution_count": null,
      "metadata": {
        "id": "IDP0hpBIHJrN",
        "colab": {
          "base_uri": "https://localhost:8080/"
        },
        "outputId": "74a7082c-2ae5-4a29-b3e6-8220e55c79e7"
      },
      "outputs": [
        {
          "output_type": "stream",
          "name": "stdout",
          "text": [
            "Enter a number: 24\n",
            "Square: 576.0\n"
          ]
        }
      ],
      "source": [
        "# Your code here\n",
        "num = float(input(\"Enter a number: \"))\n",
        "print(\"Square:\", num**2)"
      ]
    },
    {
      "cell_type": "markdown",
      "metadata": {
        "id": "qINr59OOHJrN"
      },
      "source": [
        "**Question 15:** Write a Python program to check if a number is even or odd."
      ]
    },
    {
      "cell_type": "code",
      "execution_count": null,
      "metadata": {
        "id": "HJYEXFg_HJrN",
        "colab": {
          "base_uri": "https://localhost:8080/"
        },
        "outputId": "1851b791-36b8-485d-bcee-106e03327404"
      },
      "outputs": [
        {
          "output_type": "stream",
          "name": "stdout",
          "text": [
            "Enter a number: 894\n",
            "Even\n"
          ]
        }
      ],
      "source": [
        "# Your code here\n",
        "num = int(input(\"Enter a number: \"))\n",
        "if num % 2 == 0:\n",
        "    print(\"Even\")\n",
        "else:\n",
        "    print(\"Odd\")"
      ]
    },
    {
      "cell_type": "markdown",
      "metadata": {
        "id": "P6ro5LCGHJrN"
      },
      "source": [
        "**Question 16:** Write a Python program to find the sum of the first n natural numbers."
      ]
    },
    {
      "cell_type": "code",
      "execution_count": null,
      "metadata": {
        "id": "-_4z3wF1HJrO",
        "colab": {
          "base_uri": "https://localhost:8080/"
        },
        "outputId": "a0c6912f-7801-44c1-ab9a-c01cc1587207"
      },
      "outputs": [
        {
          "output_type": "stream",
          "name": "stdout",
          "text": [
            "Enter a number: 808\n",
            "Sum of the first 808 natural numbers is 326836\n"
          ]
        }
      ],
      "source": [
        "# Your code here\n",
        "n = int(input(\"Enter a number: \"))\n",
        "sum = 0\n",
        "for i in range(1, n + 1):\n",
        "    sum += i\n",
        "print(\"Sum of the first\", n, \"natural numbers is\", sum)"
      ]
    },
    {
      "cell_type": "markdown",
      "metadata": {
        "id": "N3Aej9lPHJrO"
      },
      "source": [
        "**Question 17:** Write a Python program to check if a year is a leap year."
      ]
    },
    {
      "cell_type": "code",
      "execution_count": 27,
      "metadata": {
        "id": "Q4TYAhjlHJrO",
        "colab": {
          "base_uri": "https://localhost:8080/"
        },
        "outputId": "f94836bf-3363-4bad-8217-a5d945c39d71"
      },
      "outputs": [
        {
          "output_type": "stream",
          "name": "stdout",
          "text": [
            "Enter a year: 2025\n",
            "Not a leap year\n"
          ]
        }
      ],
      "source": [
        "# Your code here\n",
        "year = int(input(\"Enter a year: \"))\n",
        "if (year % 4 == 0 and year % 100 != 0) or (year % 400 == 0):\n",
        "    print(\"Leap year\")\n",
        "else:\n",
        "    print(\"Not a leap year\")"
      ]
    },
    {
      "cell_type": "markdown",
      "metadata": {
        "id": "d6MyDa3NHJrP"
      },
      "source": [
        "**Question 18:** Write a Python program to reverse a string."
      ]
    },
    {
      "cell_type": "code",
      "execution_count": 28,
      "metadata": {
        "id": "LhW-hBiNHJrP",
        "colab": {
          "base_uri": "https://localhost:8080/"
        },
        "outputId": "c1491a22-ceb5-4901-c4e3-140df8f52d26"
      },
      "outputs": [
        {
          "output_type": "stream",
          "name": "stdout",
          "text": [
            "Enter a string: harsha\n",
            "Reversed string: ahsrah\n"
          ]
        }
      ],
      "source": [
        "# Your code here\n",
        "str = input(\"Enter a string: \")\n",
        "print(\"Reversed string:\", str[::-1])"
      ]
    },
    {
      "cell_type": "markdown",
      "metadata": {
        "id": "yu4hFSKMHJrP"
      },
      "source": [
        "**Question 19:** Write a Python program to check if a string is a palindrome."
      ]
    },
    {
      "cell_type": "code",
      "execution_count": 30,
      "metadata": {
        "id": "9D3esZQCHJrP",
        "colab": {
          "base_uri": "https://localhost:8080/"
        },
        "outputId": "3a6676d0-aa32-479b-fc85-a2c79158a400"
      },
      "outputs": [
        {
          "output_type": "stream",
          "name": "stdout",
          "text": [
            "Enter a string: appa\n",
            "Palindrome\n"
          ]
        }
      ],
      "source": [
        "# Your code here\n",
        "str = input(\"Enter a string: \")\n",
        "if str == str[::-1]:\n",
        "    print(\"Palindrome\")\n",
        "else:\n",
        "    print(\"Not a palindrome\")"
      ]
    },
    {
      "cell_type": "markdown",
      "metadata": {
        "id": "c3VWQKg7HJrQ"
      },
      "source": [
        "**Question 20:** Write a Python program to sort a list of numbers in ascending order."
      ]
    },
    {
      "cell_type": "code",
      "execution_count": 31,
      "metadata": {
        "id": "oZ0A4vjIHJrQ",
        "colab": {
          "base_uri": "https://localhost:8080/"
        },
        "outputId": "fb4d7a0f-9f1d-4b82-930b-4195a1c3d52d"
      },
      "outputs": [
        {
          "output_type": "stream",
          "name": "stdout",
          "text": [
            "Sorted list: [1, 2, 5, 7, 9]\n"
          ]
        }
      ],
      "source": [
        "# Your code here\n",
        "list = [5, 2, 9, 1, 7]\n",
        "list.sort()\n",
        "print(\"Sorted list:\", list)"
      ]
    }
  ],
  "metadata": {
    "kernelspec": {
      "display_name": "Python 3",
      "language": "python",
      "name": "python3"
    },
    "language_info": {
      "codemirror_mode": {
        "name": "ipython",
        "version": 3
      },
      "file_extension": ".py",
      "mimetype": "text/x-python",
      "name": "python",
      "nbconvert_exporter": "python",
      "pygments_lexer": "ipython3",
      "version": "3.8.5"
    },
    "colab": {
      "provenance": []
    }
  },
  "nbformat": 4,
  "nbformat_minor": 0
}