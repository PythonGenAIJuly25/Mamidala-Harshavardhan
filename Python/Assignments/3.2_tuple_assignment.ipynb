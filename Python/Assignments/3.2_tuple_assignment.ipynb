{
 "cells": [
  {
   "cell_type": "markdown",
   "id": "6cade624",
   "metadata": {},
   "source": [
    "# Module 3: Data Structures Assignments\n",
    "## Lesson 3.2: Tuples\n",
    "### Assignment 1: Creating and Accessing Tuples\n",
    "\n",
    "Create a tuple with the first 10 positive integers. Print the tuple.\n",
    "\n",
    "### Assignment 2: Accessing Tuple Elements\n",
    "\n",
    "Print the first, middle, and last elements of the tuple created in Assignment 1.\n",
    "\n",
    "### Assignment 3: Tuple Slicing\n",
    "\n",
    "Print the first three elements, the last three elements, and the elements from index 2 to 5 of the tuple created in Assignment 1.\n",
    "\n",
    "### Assignment 4: Nested Tuples\n",
    "\n",
    "Create a nested tuple representing a 3x3 matrix and print the matrix. Access and print the element at the second row and third column.\n",
    "\n",
    "### Assignment 5: Tuple Concatenation\n",
    "\n",
    "Concatenate two tuples: (1, 2, 3) and (4, 5, 6). Print the resulting tuple.\n",
    "\n",
    "### Assignment 6: Tuple Methods\n",
    "\n",
    "Create a tuple with duplicate elements and count the occurrences of an element. Find the index of the first occurrence of an element in the tuple.\n",
    "\n",
    "### Assignment 7: Unpacking Tuples\n",
    "\n",
    "Create a tuple with 5 elements and unpack it into 5 variables. Print the variables.\n",
    "\n",
    "### Assignment 8: Tuple Conversion\n",
    "\n",
    "Convert a list of the first 5 positive integers to a tuple. Print the tuple.\n",
    "\n",
    "### Assignment 9: Tuple of Tuples\n",
    "\n",
    "Create a tuple containing 3 tuples, each with 3 elements. Print the tuple of tuples.\n",
    "\n",
    "### Assignment 10: Tuple and List\n",
    "\n",
    "Create a tuple with the first 5 positive integers. Convert it to a list, append the number 6, and convert it back to a tuple. Print the resulting tuple.\n",
    "\n",
    "### Assignment 11: Tuple and String\n",
    "\n",
    "Create a tuple with the characters of a string. Join the tuple elements into a single string. Print the string.\n",
    "\n",
    "### Assignment 12: Tuple and Dictionary\n",
    "\n",
    "Create a dictionary with tuple keys and integer values. Print the dictionary.\n",
    "\n",
    "### Assignment 13: Nested Tuple Iteration\n",
    "\n",
    "Create a nested tuple and iterate over the elements, printing each element.\n",
    "\n",
    "### Assignment 14: Tuple and Set\n",
    "\n",
    "Create a tuple with duplicate elements. Convert it to a set to remove duplicates and print the resulting set.\n",
    "\n",
    "### Assignment 15: Tuple Functions\n",
    "\n",
    "Write functions that take a tuple and return the minimum, maximum, and sum of the elements. Print the results for a sample tuple."
   ]
  },
  {
   "cell_type": "code",
   "execution_count": 2,
   "metadata": {},
   "outputs": [
    {
     "name": "stdout",
     "output_type": "stream",
     "text": [
      "(1, 2, 3, 4, 5, 6, 7, 8, 9, 10)\n"
     ]
    }
   ],
   "source": [
    "#Create a tuple with the first 10 positive integers. Print the tuple.\n",
    "tup=tuple(range(1,11))\n",
    "print(tup)"
   ]
  },
  {
   "cell_type": "code",
   "execution_count": 3,
   "id": "aec83933",
   "metadata": {},
   "outputs": [
    {
     "name": "stdout",
     "output_type": "stream",
     "text": [
      "First element: 1\n",
      "Middle element: 6\n",
      "Last element: 10\n"
     ]
    }
   ],
   "source": [
    "#Print the first, middle, and last elements of the tuple created in Assignment 1.\n",
    "tup = (1, 2, 3, 4, 5, 6, 7, 8, 9, 10)\n",
    "print(\"First element:\", tup[0])\n",
    "print(\"Middle element:\", tup[len(tup) // 2]) \n",
    "print(\"Last element:\", tup[-1])"
   ]
  },
  {
   "cell_type": "code",
   "execution_count": 5,
   "id": "6f6ee0b8",
   "metadata": {},
   "outputs": [
    {
     "name": "stdout",
     "output_type": "stream",
     "text": [
      "first three elements (1, 2, 3)\n",
      "last three elements (8, 9, 10)\n",
      "elements from index 2 to 5  (3, 4, 5, 6)\n"
     ]
    }
   ],
   "source": [
    "#Print the first three elements, the last three elements, and the elements from index 2 to 5 of the tuple created in Assignment 1.\n",
    "tup=tuple(range(1,11))\n",
    "print(\"first three elements\",tup[:3])\n",
    "print(\"last three elements\",tup[-3:])\n",
    "print(\"elements from index 2 to 5 \",tup[2:6])"
   ]
  },
  {
   "cell_type": "code",
   "execution_count": 6,
   "id": "11621980",
   "metadata": {},
   "outputs": [
    {
     "name": "stdout",
     "output_type": "stream",
     "text": [
      "Matrix:\n",
      "(1, 2, 3)\n",
      "(4, 5, 6)\n",
      "(7, 8, 9)\n",
      "Element at second row and third column: 6\n"
     ]
    }
   ],
   "source": [
    "#Create a nested tuple representing a 3x3 matrix and print the matrix. Access and print the element at the second row and third column.\n",
    "\n",
    "matrix = (\n",
    "    (1, 2, 3),\n",
    "    (4, 5, 6),\n",
    "    (7, 8, 9)\n",
    ")\n",
    "\n",
    "print(\"Matrix:\")\n",
    "for row in matrix:\n",
    "    print(row)\n",
    "\n",
    "element = matrix[1][2]\n",
    "print(\"Element at second row and third column:\", element)"
   ]
  },
  {
   "cell_type": "code",
   "execution_count": 7,
   "id": "772e02e7",
   "metadata": {},
   "outputs": [
    {
     "name": "stdout",
     "output_type": "stream",
     "text": [
      "Concatenated tuple: (1, 2, 3, 4, 5, 6)\n"
     ]
    }
   ],
   "source": [
    "#Concatenate two tuples: (1, 2, 3) and (4, 5, 6). Print the resulting tuple.\n",
    "tup1 = (1, 2, 3)\n",
    "tup2 = (4, 5, 6)\n",
    "\n",
    "result = tup1 + tup2\n",
    "\n",
    "print(\"Concatenated tuple:\", result)\n",
    "\n"
   ]
  },
  {
   "cell_type": "code",
   "execution_count": 8,
   "id": "d54fa1a5",
   "metadata": {},
   "outputs": [
    {
     "name": "stdout",
     "output_type": "stream",
     "text": [
      "Tuple: (1, 2, 3, 2, 4, 2, 5)\n",
      "Occurrences of 2: 3\n",
      "Index of first occurrence of 2: 1\n"
     ]
    }
   ],
   "source": [
    "#Create a tuple with duplicate elements and count the occurrences of an element. Find the index of the first occurrence of an element in the tuple.\n",
    "tup = (1, 2, 3, 2, 4, 2, 5)\n",
    "\n",
    "count_2 = tup.count(2)\n",
    "\n",
    "index_2 = tup.index(2)\n",
    "\n",
    "print(\"Tuple:\", tup)\n",
    "print(\"Occurrences of 2:\", count_2)\n",
    "print(\"Index of first occurrence of 2:\", index_2)\n"
   ]
  },
  {
   "cell_type": "code",
   "execution_count": 12,
   "id": "81d53837",
   "metadata": {},
   "outputs": [
    {
     "name": "stdout",
     "output_type": "stream",
     "text": [
      "1 2 3 4 5\n"
     ]
    }
   ],
   "source": [
    "#Create a tuple with 5 elements and unpack it into 5 variables. Print the variables.\n",
    "tup=tuple(range(1,6))\n",
    "one,two,three,four,five=tup\n",
    "print(one,two,three,four,five)"
   ]
  },
  {
   "cell_type": "code",
   "execution_count": 21,
   "id": "672dab02",
   "metadata": {},
   "outputs": [
    {
     "name": "stdout",
     "output_type": "stream",
     "text": [
      "(1, 2, 3, 4, 5)\n"
     ]
    }
   ],
   "source": [
    "#Convert a list of the first 5 positive integers to a tuple. Print the tuple.\n",
    "my_list=[1,2,3,4,5]\n",
    "tup=tuple(my_list)\n",
    "print(tup)"
   ]
  },
  {
   "cell_type": "code",
   "execution_count": 15,
   "id": "28dcf17c",
   "metadata": {},
   "outputs": [
    {
     "name": "stdout",
     "output_type": "stream",
     "text": [
      "((1, 2, 3), (4, 5, 6), (7, 8, 9))\n"
     ]
    }
   ],
   "source": [
    "#Create a tuple containing 3 tuples, each with 3 elements. Print the tuple of tuples.\n",
    "tup=((1,2,3),(4,5,6),(7,8,9))\n",
    "print(tup)"
   ]
  },
  {
   "cell_type": "code",
   "execution_count": 1,
   "id": "4dcf0a74",
   "metadata": {},
   "outputs": [
    {
     "name": "stdout",
     "output_type": "stream",
     "text": [
      "(1, 2, 3, 4, 5, 6)\n"
     ]
    }
   ],
   "source": [
    "#Create a tuple with the first 5 positive integers. Convert it to a list, append the number 6, and convert it back to a tuple. Print the resulting tuple.\n",
    "tup = tuple(range(1, 6))   \n",
    "lst = list(tup)            \n",
    "lst.append(6)              \n",
    "new_tup = tuple(lst)       \n",
    "print(new_tup)\n"
   ]
  },
  {
   "cell_type": "code",
   "execution_count": 2,
   "id": "21336c6f",
   "metadata": {},
   "outputs": [
    {
     "name": "stdout",
     "output_type": "stream",
     "text": [
      "Tuple: ('h', 'e', 'l', 'l', 'o')\n",
      "Joined string: hello\n"
     ]
    }
   ],
   "source": [
    "#Create a tuple with the characters of a string. Join the tuple elements into a single string. Print the string.\n",
    "text = \"hello\"\n",
    "\n",
    "char_tuple = tuple(text)\n",
    "\n",
    "joined_string = ''.join(char_tuple)\n",
    "\n",
    "print(\"Tuple:\", char_tuple)\n",
    "print(\"Joined string:\", joined_string)"
   ]
  },
  {
   "cell_type": "code",
   "execution_count": 3,
   "id": "7bd24768",
   "metadata": {},
   "outputs": [
    {
     "name": "stdout",
     "output_type": "stream",
     "text": [
      "{(1, 2): 10, (3, 4): 20, (5, 6): 30}\n"
     ]
    }
   ],
   "source": [
    "#Create a dictionary with tuple keys and integer values. Print the dictionary.\n",
    "dict={\n",
    "    (1,2):10,\n",
    "    (3,4):20,\n",
    "    (5,6):30\n",
    "}\n",
    "print(dict)"
   ]
  },
  {
   "cell_type": "code",
   "execution_count": 4,
   "id": "84feac45",
   "metadata": {},
   "outputs": [
    {
     "name": "stdout",
     "output_type": "stream",
     "text": [
      "1\n",
      "2\n",
      "3\n",
      "4\n",
      "5\n",
      "6\n",
      "7\n",
      "8\n",
      "9\n"
     ]
    }
   ],
   "source": [
    "#Create a nested tuple and iterate over the elements, printing each element.\n",
    "nested_tuple = (\n",
    "    (1, 2, 3),\n",
    "    (4, 5, 6),\n",
    "    (7, 8, 9)\n",
    ")\n",
    "for row in nested_tuple:\n",
    "    for item in row:\n",
    "        print(item)\n"
   ]
  },
  {
   "cell_type": "code",
   "execution_count": 5,
   "id": "810106e3",
   "metadata": {},
   "outputs": [
    {
     "name": "stdout",
     "output_type": "stream",
     "text": [
      "Original tuple: (1, 2, 2, 3, 4, 4, 5, 1)\n",
      "Set without duplicates: {1, 2, 3, 4, 5}\n"
     ]
    }
   ],
   "source": [
    "#Create a tuple with duplicate elements. Convert it to a set to remove duplicates and print the resulting set.\n",
    "tup = (1, 2, 2, 3, 4, 4, 5, 1)\n",
    "\n",
    "unique_set = set(tup)\n",
    "\n",
    "print(\"Original tuple:\", tup)\n",
    "print(\"Set without duplicates:\", unique_set)"
   ]
  },
  {
   "cell_type": "code",
   "execution_count": 6,
   "id": "1699de4f",
   "metadata": {},
   "outputs": [
    {
     "name": "stdout",
     "output_type": "stream",
     "text": [
      "Tuple: (4, 1, 7, 3, 9)\n",
      "Minimum: 1\n",
      "Maximum: 9\n",
      "Sum: 24\n"
     ]
    }
   ],
   "source": [
    "#Write functions that take a tuple and return the minimum, maximum, and sum of the elements. Print the results for a sample tuple.\n",
    "tup = (4, 1, 7, 3, 9)\n",
    "\n",
    "print(\"Tuple:\", tup)\n",
    "print(\"Minimum:\", min(tup))\n",
    "print(\"Maximum:\", max(tup))\n",
    "print(\"Sum:\", sum(tup))"
   ]
  }
 ],
 "metadata": {
  "kernelspec": {
   "display_name": "Python 3",
   "language": "python",
   "name": "python3"
  },
  "language_info": {
   "codemirror_mode": {
    "name": "ipython",
    "version": 3
   },
   "file_extension": ".py",
   "mimetype": "text/x-python",
   "name": "python",
   "nbconvert_exporter": "python",
   "pygments_lexer": "ipython3",
   "version": "3.12.0"
  }
 },
 "nbformat": 4,
 "nbformat_minor": 5
}
