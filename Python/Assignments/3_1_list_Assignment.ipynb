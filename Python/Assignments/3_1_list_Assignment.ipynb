{
  "cells": [
    {
      "cell_type": "markdown",
      "metadata": {
        "id": "u1-0ohq5Kahg"
      },
      "source": [
        "# Module 3: Data Structures Assignments\n",
        "## Lesson 3.1: Lists\n",
        "### Assignment 1: Creating and Accessing Lists\n",
        "\n",
        "Create a list of the first 20 positive integers. Print the list.\n",
        "\n",
        "\n",
        "### Assignment 2: Accessing List Elements\n",
        "\n",
        "Print the first, middle, and last elements of the list created in Assignment 1.\n",
        "\n",
        "### Assignment 3: List Slicing\n",
        "\n",
        "Print the first five elements, the last five elements, and the elements from index 5 to 15 of the list created in Assignment 1.\n",
        "\n",
        "### Assignment 4: List Comprehensions\n",
        "\n",
        "Create a new list containing the squares of the first 10 positive integers using a list comprehension. Print the new list.\n",
        "\n",
        "### Assignment 5: Filtering Lists\n",
        "\n",
        "Create a new list containing only the even numbers from the list created in Assignment 1 using a list comprehension. Print the new list.\n",
        "\n",
        "### Assignment 6: List Methods\n",
        "\n",
        "Create a list of random numbers and sort it in ascending and descending order. Remove the duplicates from the list and print the modified list.\n",
        "\n",
        "### Assignment 7: Nested Lists\n",
        "\n",
        "Create a nested list representing a 3x3 matrix and print the matrix. Access and print the element at the second row and third column.\n",
        "\n",
        "### Assignment 8: List of Dictionaries\n",
        "\n",
        "Create a list of dictionaries where each dictionary represents a student with keys 'name' and 'score'. Sort the list of dictionaries by the 'score' in descending order and print the sorted list.\n",
        "\n",
        "### Assignment 9: Matrix Transposition\n",
        "\n",
        "Write a function that takes a 3x3 matrix (nested list) as input and returns its transpose. Print the original and transposed matrices.\n",
        "\n",
        "### Assignment 10: Flattening a Nested List\n",
        "\n",
        "Write a function that takes a nested list and flattens it into a single list. Print the original and flattened lists.\n",
        "\n",
        "### Assignment 11: List Manipulation\n",
        "\n",
        "Create a list of the first 10 positive integers. Remove the elements at indices 2, 4, and 6, and insert the element '99' at index 5. Print the modified list.\n",
        "\n",
        "### Assignment 12: List Zipping\n",
        "\n",
        "Create two lists of the same length. Use the `zip` function to combine these lists into a list of tuples and print the result.\n",
        "\n",
        "### Assignment 13: List Reversal\n",
        "\n",
        "Write a function that takes a list and returns a new list with the elements in reverse order. Print the original and reversed lists.\n",
        "\n",
        "### Assignment 14: List Rotation\n",
        "\n",
        "Write a function that rotates a list by n positions. Print the original and rotated lists.\n",
        "\n",
        "### Assignment 15: List Intersection\n",
        "\n",
        "Write a function that takes two lists and returns a new list containing only the elements that are present in both lists. Print the intersected list."
      ],
      "id": "u1-0ohq5Kahg"
    },
    {
      "cell_type": "code",
      "source": [
        "my_list = list(range(1, 21))\n",
        "print(my_list)"
      ],
      "metadata": {
        "colab": {
          "base_uri": "https://localhost:8080/"
        },
        "id": "ZqZLiQMpKx9j",
        "outputId": "47013765-d182-4191-b5af-c0b4c79b9b1c"
      },
      "id": "ZqZLiQMpKx9j",
      "execution_count": 5,
      "outputs": [
        {
          "output_type": "stream",
          "name": "stdout",
          "text": [
            "[1, 2, 3, 4, 5, 6, 7, 8, 9, 10, 11, 12, 13, 14, 15, 16, 17, 18, 19, 20]\n"
          ]
        }
      ]
    },
    {
      "cell_type": "markdown",
      "source": [
        "Assignment 2: Accessing List Elements\n",
        "Print the first, middle, and last elements of the list created in Assignment 1."
      ],
      "metadata": {
        "id": "e8UyQbZOTE-B"
      },
      "id": "e8UyQbZOTE-B"
    },
    {
      "cell_type": "code",
      "execution_count": 7,
      "metadata": {
        "colab": {
          "base_uri": "https://localhost:8080/"
        },
        "id": "hJebo_M0Kahr",
        "outputId": "8033292a-bd20-43af-e565-3aa65bf9f5cb"
      },
      "outputs": [
        {
          "output_type": "stream",
          "name": "stdout",
          "text": [
            "1\n",
            "11\n",
            "20\n"
          ]
        }
      ],
      "source": [
        "print(my_list[0])\n",
        "middle_index = len(my_list) // 2\n",
        "print(my_list[middle_index])\n",
        "print(my_list[-1])"
      ],
      "id": "hJebo_M0Kahr"
    },
    {
      "cell_type": "markdown",
      "source": [
        "Assignment 3: List Slicing\n",
        "Print the first five elements, the last five elements, and the elements from index 5 to 15 of the list created in Assignment 1."
      ],
      "metadata": {
        "id": "bFTD_YFuTeqG"
      },
      "id": "bFTD_YFuTeqG"
    },
    {
      "cell_type": "code",
      "source": [
        "print(\"First five elements:\", my_list[:5])\n",
        "print(\"Last five elements:\", my_list[-5:])\n",
        "print(\"Elements from index 5 to 15:\", my_list[5:15])"
      ],
      "metadata": {
        "colab": {
          "base_uri": "https://localhost:8080/"
        },
        "id": "uqvuRjvGTj_f",
        "outputId": "ea5a5e90-db80-42e4-ec59-db49525bf9e4"
      },
      "id": "uqvuRjvGTj_f",
      "execution_count": 10,
      "outputs": [
        {
          "output_type": "stream",
          "name": "stdout",
          "text": [
            "First five elements: [1, 2, 3, 4, 5]\n",
            "Last five elements: [16, 17, 18, 19, 20]\n",
            "Elements from index 5 to 15: [6, 7, 8, 9, 10, 11, 12, 13, 14, 15]\n"
          ]
        }
      ]
    },
    {
      "cell_type": "markdown",
      "source": [
        "Assignment 4: List Comprehensions\n",
        "Create a new list containing the squares of the first 10 positive integers using a list comprehension. Print the new list.\n"
      ],
      "metadata": {
        "id": "QwlK6IylUHof"
      },
      "id": "QwlK6IylUHof"
    },
    {
      "cell_type": "code",
      "source": [
        "squares_list = [i**2 for i in range(1, 11)]\n",
        "print(squares_list)"
      ],
      "metadata": {
        "colab": {
          "base_uri": "https://localhost:8080/"
        },
        "id": "bdmVkoMsUEMR",
        "outputId": "50db881f-64fd-4eb3-af6b-f4a24b64c91b"
      },
      "id": "bdmVkoMsUEMR",
      "execution_count": 12,
      "outputs": [
        {
          "output_type": "stream",
          "name": "stdout",
          "text": [
            "[1, 4, 9, 16, 25, 36, 49, 64, 81, 100]\n"
          ]
        }
      ]
    },
    {
      "cell_type": "markdown",
      "source": [
        "Assignment 5: Filtering Lists\n",
        "Create a new list containing only the even numbers from the list created in Assignment 1 using a list comprehension. Print the new list.\n"
      ],
      "metadata": {
        "id": "uN9k7ynxUiNX"
      },
      "id": "uN9k7ynxUiNX"
    },
    {
      "cell_type": "code",
      "source": [
        "my_list = list(range(1, 21))\n",
        "even_numbers = [num for num in my_list if num % 2 == 0]\n",
        "print(even_numbers)"
      ],
      "metadata": {
        "colab": {
          "base_uri": "https://localhost:8080/"
        },
        "id": "JG5rVdgEUfxo",
        "outputId": "82504414-ee10-49e3-de19-2f9aba95d62d"
      },
      "id": "JG5rVdgEUfxo",
      "execution_count": 12,
      "outputs": [
        {
          "output_type": "stream",
          "name": "stdout",
          "text": [
            "[2, 4, 6, 8, 10, 12, 14, 16, 18, 20]\n"
          ]
        }
      ]
    },
    {
      "cell_type": "markdown",
      "source": [
        "Assignment 6: List Methods\n",
        "Create a list of random numbers and sort it in ascending and descending order. Remove the duplicates from the list and print the modified list.\n"
      ],
      "metadata": {
        "id": "nGK_YlrSV6Mc"
      },
      "id": "nGK_YlrSV6Mc"
    },
    {
      "cell_type": "code",
      "source": [
        "import random\n",
        "\n",
        "random_list = [random.randint(1, 100) for _ in range(15)]\n",
        "print(\"Original list:\", random_list)\n",
        "ascending_list = sorted(random_list)\n",
        "print(\"Ascending order:\", ascending_list)\n",
        "descending_list = sorted(random_list, reverse=True)\n",
        "print(\"Descending order:\", descending_list)\n",
        "unique_list = list(set(random_list))\n",
        "unique_list.sort()\n",
        "print(\"List with duplicates removed:\", unique_list)"
      ],
      "metadata": {
        "colab": {
          "base_uri": "https://localhost:8080/"
        },
        "id": "l6dhrT9MV28o",
        "outputId": "9b526dad-ed8c-4335-fca4-cb54a53b1b6e"
      },
      "id": "l6dhrT9MV28o",
      "execution_count": 15,
      "outputs": [
        {
          "output_type": "stream",
          "name": "stdout",
          "text": [
            "Original list: [49, 88, 68, 70, 82, 84, 33, 64, 19, 10, 76, 40, 66, 97, 99]\n",
            "Ascending order: [10, 19, 33, 40, 49, 64, 66, 68, 70, 76, 82, 84, 88, 97, 99]\n",
            "Descending order: [99, 97, 88, 84, 82, 76, 70, 68, 66, 64, 49, 40, 33, 19, 10]\n",
            "List with duplicates removed: [10, 19, 33, 40, 49, 64, 66, 68, 70, 76, 82, 84, 88, 97, 99]\n"
          ]
        }
      ]
    },
    {
      "cell_type": "markdown",
      "source": [
        "Assignment 7: Nested Lists\n",
        "Create a nested list representing a 3x3 matrix and print the matrix. Access and print the element at the second row and third column.\n"
      ],
      "metadata": {
        "id": "Rkp94E1fXDeA"
      },
      "id": "Rkp94E1fXDeA"
    },
    {
      "cell_type": "code",
      "source": [
        "\n",
        "matrix = [\n",
        "    [1, 2, 3],\n",
        "    [4, 5, 6],\n",
        "    [7, 8, 9]\n",
        "]\n",
        "print(\"Matrix:\", matrix)\n",
        "element = matrix[1][2]\n",
        "print(\"Element at second row, third column:\", element)"
      ],
      "metadata": {
        "colab": {
          "base_uri": "https://localhost:8080/"
        },
        "id": "f3yCYgIiW_S9",
        "outputId": "571e61bb-af10-480d-faa3-bb0956cf1ea9"
      },
      "id": "f3yCYgIiW_S9",
      "execution_count": 17,
      "outputs": [
        {
          "output_type": "stream",
          "name": "stdout",
          "text": [
            "Matrix: [[1, 2, 3], [4, 5, 6], [7, 8, 9]]\n",
            "Element at second row, third column: 6\n"
          ]
        }
      ]
    },
    {
      "cell_type": "markdown",
      "source": [
        "Assignment 8: List of Dictionaries\n",
        "Create a list of dictionaries where each dictionary represents a student with keys 'name' and 'score'. Sort the list of dictionaries by the 'score' in descending order and print the sorted list.\n"
      ],
      "metadata": {
        "id": "DLE49k0MXasY"
      },
      "id": "DLE49k0MXasY"
    },
    {
      "cell_type": "code",
      "source": [
        "students = [\n",
        "    {'name': 'harsha', 'score': 95},\n",
        "    {'name': 'raju', 'score': 80},\n",
        "    {'name': 'shiva', 'score': 96}\n",
        "]\n",
        "\n",
        "print(\"Original list of students:\", students)\n",
        "sorted_students = sorted(students, key=lambda x: x['score'], reverse=True)\n",
        "print(\"Sorted list of students by score (descending):\", sorted_students)"
      ],
      "metadata": {
        "colab": {
          "base_uri": "https://localhost:8080/"
        },
        "id": "-7X_qEh4XksE",
        "outputId": "9ea553a8-2dc9-430c-b7e0-5d07bb25c13c"
      },
      "id": "-7X_qEh4XksE",
      "execution_count": 22,
      "outputs": [
        {
          "output_type": "stream",
          "name": "stdout",
          "text": [
            "Original list of students: [{'name': 'harsha', 'score': 95}, {'name': 'raju', 'score': 80}, {'name': 'shiva', 'score': 96}]\n",
            "Sorted list of students by score (descending): [{'name': 'shiva', 'score': 96}, {'name': 'harsha', 'score': 95}, {'name': 'raju', 'score': 80}]\n"
          ]
        }
      ]
    },
    {
      "cell_type": "markdown",
      "source": [
        "Assignment 9: Matrix Transposition\n",
        "Write a function that takes a 3x3 matrix (nested list) as input and returns its transpose. Print the original and transposed matrices."
      ],
      "metadata": {
        "id": "mqpnT2vidfMc"
      },
      "id": "mqpnT2vidfMc"
    },
    {
      "cell_type": "code",
      "source": [
        "import numpy as np\n",
        "matrix = [\n",
        "    [1, 2, 3],\n",
        "    [4, 5, 6],\n",
        "    [7, 8, 9]\n",
        "]\n",
        "def transpose_matrix(matrix):\n",
        "  transposed_matrix = np.array(matrix).T.tolist()\n",
        "  return transposed_matrix\n",
        "\n",
        "print(\"Original matrix:\", matrix)\n",
        "transposed_matrix = transpose_matrix(matrix)\n",
        "print(\"Transposed matrix:\", transposed_matrix)"
      ],
      "metadata": {
        "colab": {
          "base_uri": "https://localhost:8080/"
        },
        "id": "OwdQv1S1db6o",
        "outputId": "8b0ac2e6-e531-4ae0-a4ca-e9164a5b0e39"
      },
      "id": "OwdQv1S1db6o",
      "execution_count": 25,
      "outputs": [
        {
          "output_type": "stream",
          "name": "stdout",
          "text": [
            "Original matrix: [[1, 2, 3], [4, 5, 6], [7, 8, 9]]\n",
            "Transposed matrix: [[1, 4, 7], [2, 5, 8], [3, 6, 9]]\n"
          ]
        }
      ]
    },
    {
      "cell_type": "markdown",
      "source": [
        "Assignment 10: Flattening a Nested List\n",
        "Write a function that takes a nested list and flattens it into a single list. Print the original and flattened lists."
      ],
      "metadata": {
        "id": "kRhJyIUmexVH"
      },
      "id": "kRhJyIUmexVH"
    },
    {
      "cell_type": "code",
      "source": [
        "del list\n",
        "def flatten_list(nested):\n",
        "    flat = []\n",
        "    for item in nested:\n",
        "        if isinstance(item, list):\n",
        "            flat.extend(flatten_list(item))  # Recursion for nested lists\n",
        "        else:\n",
        "            flat.append(item)\n",
        "    return flat\n",
        "\n",
        "original_list = [1, [2, 3], [4, [5, 6]], 7]\n",
        "flattened = flatten_list(original_list)\n",
        "print(\"Original List:\", original_list)\n",
        "print(\"Flattened List:\", flattened)\n"
      ],
      "metadata": {
        "colab": {
          "base_uri": "https://localhost:8080/"
        },
        "id": "qAVOmeRWgmyG",
        "outputId": "4a95bd4f-d860-468d-8b17-c07b84735bad"
      },
      "id": "qAVOmeRWgmyG",
      "execution_count": 47,
      "outputs": [
        {
          "output_type": "stream",
          "name": "stdout",
          "text": [
            "Original List: [1, [2, 3], [4, [5, 6]], 7]\n",
            "Flattened List: [1, 2, 3, 4, 5, 6, 7]\n"
          ]
        }
      ]
    },
    {
      "cell_type": "markdown",
      "metadata": {
        "id": "8fb308c2"
      },
      "source": [
        "### Assignment 11: List Manipulation\n",
        "\n",
        "Create a list of the first 10 positive integers. Remove the elements at indices 2, 4, and 6, and insert the element '99' at index 5. Print the modified list."
      ],
      "id": "8fb308c2"
    },
    {
      "cell_type": "code",
      "source": [
        "lst = list(range(1, 11))\n",
        "print(\"Original List:\", lst)\n",
        "lst.pop(2)\n",
        "lst.pop(4)\n",
        "lst.pop(6)\n",
        "lst.insert(5, 99)\n",
        "print(\"Modified List:\", lst)\n"
      ],
      "metadata": {
        "colab": {
          "base_uri": "https://localhost:8080/"
        },
        "id": "IGMVZp7HhMfA",
        "outputId": "e9b576f4-725c-47fe-e98e-84865c1423e1"
      },
      "id": "IGMVZp7HhMfA",
      "execution_count": 50,
      "outputs": [
        {
          "output_type": "stream",
          "name": "stdout",
          "text": [
            "Original List: [1, 2, 3, 4, 5, 6, 7, 8, 9, 10]\n",
            "Modified List: [1, 2, 4, 5, 7, 99, 8, 10]\n"
          ]
        }
      ]
    },
    {
      "cell_type": "markdown",
      "metadata": {
        "id": "1a8f4118"
      },
      "source": [
        "### Assignment 12: List Zipping\n",
        "\n",
        "Create two lists of the same length. Use the `zip` function to combine these lists into a list of tuples and print the result."
      ],
      "id": "1a8f4118"
    },
    {
      "cell_type": "code",
      "source": [
        "def reverse_list(input_list):\n",
        "   return input_list[::-1]\n",
        "original_list = [1, 2, 3, 4, 5]\n",
        "reversed_list = reverse_list(original_list)\n",
        "\n",
        "print(\"Original list:\", original_list)\n",
        "print(\"Reversed list:\", reversed_list)\n"
      ],
      "metadata": {
        "colab": {
          "base_uri": "https://localhost:8080/"
        },
        "id": "-u6XZT4Uf5Ox",
        "outputId": "b5f74f50-528e-44db-c8af-c6a874843be9"
      },
      "id": "-u6XZT4Uf5Ox",
      "execution_count": 44,
      "outputs": [
        {
          "output_type": "stream",
          "name": "stdout",
          "text": [
            "Original list: [1, 2, 3, 4, 5]\n",
            "Reversed list: [5, 4, 3, 2, 1]\n"
          ]
        }
      ]
    },
    {
      "cell_type": "markdown",
      "source": [
        "### Assignment 13: List Reversal\n",
        "\n",
        "Write a function that takes a list and returns a new list with the elements in reverse order. Print the original and reversed lists."
      ],
      "metadata": {
        "id": "3SSXUAqmh175"
      },
      "id": "3SSXUAqmh175"
    },
    {
      "cell_type": "code",
      "source": [
        "def new_list(list):\n",
        "  return list[::-1]\n",
        "\n",
        "list=[1,2,3,4,5]\n",
        "print(\"the original list\",list)\n",
        "print(\"the new list of reverse\",new_list(list))"
      ],
      "metadata": {
        "colab": {
          "base_uri": "https://localhost:8080/"
        },
        "id": "mwDOlyRTicZo",
        "outputId": "e3bb1e2b-ddc5-4640-d52b-101660328a54"
      },
      "id": "mwDOlyRTicZo",
      "execution_count": 64,
      "outputs": [
        {
          "output_type": "stream",
          "name": "stdout",
          "text": [
            "the original list [1, 2, 3, 4, 5]\n",
            "the new list of reverse [5, 4, 3, 2, 1]\n"
          ]
        }
      ]
    },
    {
      "cell_type": "markdown",
      "source": [
        "Assignment 14: List Rotation\n",
        "Write a function that rotates a list by n positions. Print the original and rotated lists."
      ],
      "metadata": {
        "id": "bNNZ7L7fkW1H"
      },
      "id": "bNNZ7L7fkW1H"
    },
    {
      "cell_type": "code",
      "source": [
        "def rotate_list(lst, n):\n",
        "    n = n % len(lst)\n",
        "    return lst[n:] + lst[:n]\n",
        "\n",
        "original = [1, 2, 3, 4, 5]\n",
        "rotated = rotate_list(original, 2)\n",
        "print(\"Original List:\", original)\n",
        "print(\"Rotated List by 2 positions:\", rotated)\n"
      ],
      "metadata": {
        "colab": {
          "base_uri": "https://localhost:8080/"
        },
        "id": "iz6LH6Yzi8Fv",
        "outputId": "daab1547-1a89-4e95-da08-dcb48573034a"
      },
      "id": "iz6LH6Yzi8Fv",
      "execution_count": 65,
      "outputs": [
        {
          "output_type": "stream",
          "name": "stdout",
          "text": [
            "Original List: [1, 2, 3, 4, 5]\n",
            "Rotated List by 2 positions: [3, 4, 5, 1, 2]\n"
          ]
        }
      ]
    },
    {
      "cell_type": "markdown",
      "source": [
        "Assignment 15: List Intersection\n",
        "Write a function that takes two lists and returns a new list containing only the elements that are present in both lists. Print the intersected list."
      ],
      "metadata": {
        "id": "HrH66dwdkdI8"
      },
      "id": "HrH66dwdkdI8"
    },
    {
      "cell_type": "code",
      "source": [
        "def list_intersection(lst1, lst2):\n",
        "    return [item for item in lst1 if item in lst2]\n",
        "\n",
        "a = [1, 2, 3, 4, 5]\n",
        "b = [3, 4, 5, 6, 7]\n",
        "intersection = list_intersection(a, b)\n",
        "print(\"Intersection of lists:\", intersection)"
      ],
      "metadata": {
        "colab": {
          "base_uri": "https://localhost:8080/"
        },
        "id": "2TxNGcpJkGpQ",
        "outputId": "ed842bca-13b7-4706-f8b7-3784cfb2d671"
      },
      "id": "2TxNGcpJkGpQ",
      "execution_count": 66,
      "outputs": [
        {
          "output_type": "stream",
          "name": "stdout",
          "text": [
            "Intersection of lists: [3, 4, 5]\n"
          ]
        }
      ]
    },
    {
      "cell_type": "markdown",
      "source": [],
      "metadata": {
        "id": "VnmpIk6-kccT"
      },
      "id": "VnmpIk6-kccT"
    }
  ],
  "metadata": {
    "kernelspec": {
      "display_name": "Python 3",
      "language": "python",
      "name": "python3"
    },
    "language_info": {
      "codemirror_mode": {
        "name": "ipython",
        "version": 3
      },
      "file_extension": ".py",
      "mimetype": "text/x-python",
      "name": "python",
      "nbconvert_exporter": "python",
      "pygments_lexer": "ipython3",
      "version": "3.9.7"
    },
    "colab": {
      "provenance": []
    }
  },
  "nbformat": 4,
  "nbformat_minor": 5
}